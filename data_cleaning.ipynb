{
  "nbformat": 4,
  "nbformat_minor": 0,
  "metadata": {
    "colab": {
      "provenance": [],
      "include_colab_link": true
    },
    "kernelspec": {
      "name": "python3",
      "display_name": "Python 3"
    },
    "language_info": {
      "name": "python"
    }
  },
  "cells": [
    {
      "cell_type": "markdown",
      "metadata": {
        "id": "view-in-github",
        "colab_type": "text"
      },
      "source": [
        "<a href=\"https://colab.research.google.com/github/m3llad0/water-pollution/blob/main/data_cleaning.ipynb\" target=\"_parent\"><img src=\"https://colab.research.google.com/assets/colab-badge.svg\" alt=\"Open In Colab\"/></a>"
      ]
    },
    {
      "cell_type": "markdown",
      "source": [
        "# Data Cleaning and Preprocessing\n",
        "\n",
        "_Autor: Diego Mellado, Luis C. Juarez-Moreno_\n",
        "\n",
        "---\n",
        "\n",
        "## 1. Introducción\n",
        "\n",
        "Esta sección describe en detalle el **procesamiento inicial** de las cinco fuentes de datos crudos (Excel) para preparar un conjunto limpio de CSVs que alimentarán el cálculo del Índice de Calidad del Agua (ICA) y los modelos posteriores.  \n",
        "Los cinco cuerpos de agua cubiertos son:\n",
        "1. Laguna de Cajititlán  \n",
        "2. Río Santiago  \n",
        "3. Río Zula-Lerma  \n",
        "4. Laguna Zapotlán  \n",
        "5. Río Verde  \n",
        "\n",
        "### 1.1. Objetivos Específicos de la Limpieza\n",
        "1. **Unificar y normalizar** los nombres de parámetros y puntos de muestreo.  \n",
        "2. **Eliminar mediciones no relevantes** (solo conservar los parámetros necesarios para el ICA).  \n",
        "3. **Convertir valores no numéricos** (p. ej. “<0.01”) en datos numéricos útiles.  \n",
        "4. **Pivotar la tabla** para que cada registro sea una combinación única de (`Fecha`, `Punto de Muestreo`) y las columnas sean los 12 parámetros seleccionados.  \n",
        "5. **Generar un CSV** limpio por cada cuerpo de agua, listo para el cálculo del ICA.\n",
        "\n",
        "---\n",
        "\n",
        "## 2. Montaje de Google Drive\n"
      ],
      "metadata": {
        "id": "jZiSzMcr9Vgl"
      }
    },
    {
      "cell_type": "code",
      "execution_count": null,
      "metadata": {
        "id": "xbb72bziR79n"
      },
      "outputs": [],
      "source": [
        "from google.colab import drive\n",
        "import pandas as pd\n"
      ]
    },
    {
      "cell_type": "code",
      "source": [
        "drive.mount('/content/drive')"
      ],
      "metadata": {
        "colab": {
          "base_uri": "https://localhost:8080/"
        },
        "id": "wrDt3k2wXk6G",
        "outputId": "babed43a-5a5e-4281-ff2f-1445ac065bfb"
      },
      "execution_count": null,
      "outputs": [
        {
          "output_type": "stream",
          "name": "stdout",
          "text": [
            "Mounted at /content/drive\n"
          ]
        }
      ]
    },
    {
      "cell_type": "markdown",
      "source": [
        "## 3. Definición de Parámetros y Rutas de Archivo\n",
        "\n",
        "\n",
        "- `files`: nombres de los archivos Excel originales.\n",
        "\n",
        "- `water_bodies`: nombres exactos de las hojas dentro de cada Excel.\n",
        "\n",
        "- `water_bodies1`: versiones sin tildes/espacios para nombrar los CSV resultantes.\n",
        "\n",
        "- `params`: lista de 12 parámetros críticos para el ICA, según CONAGUA (2014) .\n",
        "\n"
      ],
      "metadata": {
        "id": "autfiywA9sPC"
      }
    },
    {
      "cell_type": "code",
      "source": [
        "files = [\"RioSantiago.xlsx\", \"RioZula-Lerma.xlsx\", \"LagunaCajititlan.xlsx\",\n",
        "         \"LagunaZapotlan.xlsx\", \"RioVerde.xlsx\"]\n",
        "\n",
        "water_bodies = [\"Río Santiago\", \"Río Zula-Lerma\", \"Laguna de Cajititlán\", \"Laguna Zapotlán\", \"Río Verde\"]\n",
        "water_bodies1 = [\"Rio Santiago\", \"Rio Zula-Lerma\", \"Laguna de Cajititlan\", \"Laguna Zapotlan\", \"Rio Verde\"]\n",
        "\n",
        "params = [\n",
        "    \"Oxígeno Disuelto\",\n",
        "    \"Demanda Bioquímica\",\n",
        "    \"Demanda Química\",\n",
        "    \"Potencial\",\n",
        "    \"Conductividad\",\n",
        "    \"Amoniacal\",\n",
        "    \"Fósforo\",\n",
        "    \"Suspendidos Totales\",\n",
        "    \"Alcalinidad total\",\n",
        "    \"Plomo\",\n",
        "    \"Mercurio\",\n",
        "    \"Coliformes fecales\"\n",
        "]"
      ],
      "metadata": {
        "id": "96gt3vlnZAnt"
      },
      "execution_count": null,
      "outputs": []
    },
    {
      "cell_type": "markdown",
      "source": [
        "## 4. Lectura y Filtrado de las Hojas Excel\n",
        "Para cada archivo (`files[i]`) se lleva a cabo:\n",
        "\n",
        "1. Lectura de la hoja principal:"
      ],
      "metadata": {
        "id": "ENqS4j04-K-D"
      }
    },
    {
      "cell_type": "markdown",
      "source": [
        "2. Limpieza de la Columna “valor”\n",
        "\n",
        "- Qué hace:\n",
        "\n",
        "  - Quita espacios y convierte cadenas numéricas a float.\n",
        "\n",
        "  - Si hay un prefijo “<” (e.g., <0.01), toma el valor numérico detrás del < y divide entre 2 para aproximar “LOD/2”.\n",
        "  \n",
        "Técnicas de análisis químico suelen usar “LOD/2” cuando un contaminante está por debajo del umbral de detección .\n",
        "\n",
        "Permite conservar la fila con un valor aproximado en lugar de desecharla."
      ],
      "metadata": {
        "id": "p4K8KL2N_OXK"
      }
    },
    {
      "cell_type": "code",
      "source": [
        "def clean_val(v):\n",
        "    if isinstance(v, str):\n",
        "        v = v.strip()\n",
        "        if v.startswith(\"<\"):\n",
        "            try:\n",
        "                return float(v[1:]) / 2  # Interpretar como mitad del valor de detección\n",
        "            except:\n",
        "                return pd.NA\n",
        "        try:\n",
        "            return float(v)\n",
        "        except:\n",
        "            return pd.NA\n",
        "    return v"
      ],
      "metadata": {
        "id": "lOjoocL6_E4g"
      },
      "execution_count": null,
      "outputs": []
    },
    {
      "cell_type": "markdown",
      "source": [
        "4. Lectura y Filtrado de las Hojas Excel\n",
        "Para cada archivo (files[i]) se lleva a cabo:\n",
        "\n",
        "\n",
        "\n",
        "3. Lectura de catálogos:\n",
        "\n",
        "`df_params`: mapea `idParametros` → `Parametro`.\n",
        "`df_points`: mapea `idPunto` → `puntoMuestreo`.\n",
        "\n",
        "4. Filtrado de parámetros de interés:\n",
        "\n",
        "- Se retienen solo los parámetros relacionados con el ICA (e.g., “Demanda química de oxígeno” coincide con \"Demanda Química\").\n",
        "\n",
        "- Evita procesar mediciones irrelevantes y reduce el tamaño de la tabla.\n",
        "\n",
        "5. Unión (merge) con df_main:\n",
        "\n",
        "- `how=\"inner\"` en la unión con `filtered_params` garantiza que solo queden filas con parámetros relevantes.\n",
        "\n",
        "- Se añaden columnas descriptivas Parametros y Punto de Muestreo para cada medición.\n",
        "\n",
        "\n",
        "6. Conversión de “Fecha” a Formato `datetime`\n",
        "\n",
        "- Transformar la columna fecha (cadena) en un objeto datetime de pandas.\n",
        "\n",
        "- Hacer posible ordenar cronológicamente, filtrar por rangos y calcular series de tiempo posteriormente.\n",
        "\n",
        "errors=\"coerce\" convierte valores inválidos en NaT. Estas filas podrán revisarse o descartar si la fecha es esencial.\n"
      ],
      "metadata": {
        "id": "oNuYSNjl_v_W"
      }
    },
    {
      "cell_type": "code",
      "source": [
        "for i in range(len(files)):\n",
        "    print(f\"{i+1}. {water_bodies[i]}\")\n",
        "    xls = pd.ExcelFile(f\"/content/drive/MyDrive/Water project/Dataset(s)/raw data/{files[i]}\")\n",
        "\n",
        "    # Leer hojas\n",
        "    df_main = xls.parse(water_bodies[i])\n",
        "    df_params = xls.parse(\"Parametros\")\n",
        "    df_points = xls.parse(\"Puntos de Muestreo\")\n",
        "\n",
        "    # Filtrar parámetros\n",
        "    mask = df_params[\"Parametro\"].str.lower().apply(\n",
        "        lambda x: any(keyword.lower() in x for keyword in params)\n",
        "    )\n",
        "    filtered_params = df_params[mask]\n",
        "\n",
        "    # Merge con nombre del parámetro\n",
        "    df_main = df_main.merge(\n",
        "        filtered_params[[\"idParametros\", \"Parametro\"]],\n",
        "        left_on=\"idParametro\",\n",
        "        right_on=\"idParametros\",\n",
        "        how=\"inner\"  # <--- Important: keep only matching parameters\n",
        "    )\n",
        "\n",
        "    # Merge con nombre del punto de muestreo\n",
        "    df_main = df_main.merge(\n",
        "        df_points[[\"idPunto\", \"puntoMuestreo\"]],\n",
        "        left_on=\"idPuntoMuestreo\",\n",
        "        right_on=\"idPunto\",\n",
        "        how=\"left\"\n",
        "    )\n",
        "\n",
        "    # Renombrar columnas\n",
        "    df_main.rename(columns={\n",
        "        \"Parametro\": \"Parametros\",\n",
        "        \"puntoMuestreo\": \"Punto de Muestreo\"\n",
        "    }, inplace=True)\n",
        "\n",
        "    # Conservar solo columnas relevantes\n",
        "    df_main = df_main[[\"valor\", \"fecha\", \"Parametros\", \"Punto de Muestreo\"]]\n",
        "\n",
        "\n",
        "    df_main[\"valor\"] = df_main[\"valor\"].apply(clean_val)\n",
        "\n",
        "\n",
        "    # Rename columns for easier use\n",
        "    df_main = df_main.rename(columns={\n",
        "        \"valor\": \"Valor\",\n",
        "        \"fecha\": \"Fecha\",\n",
        "        \"Parametros\": \"Parametros\"\n",
        "    })\n",
        "\n",
        "    # Automatically parse the date column\n",
        "    df_main[\"Fecha\"] = pd.to_datetime(df_main[\"Fecha\"], format=\"ISO8601\", errors=\"coerce\")\n",
        "\n",
        "    # Optional: Check for any parsing errors\n",
        "    if df_main[\"Fecha\"].isnull().any():\n",
        "        print(\"Some dates could not be parsed. Showing rows with issues:\")\n",
        "        print(df_main[df_main[\"Fecha\"].isnull()])\n",
        "\n",
        "    # Pivot the table\n",
        "    pivot_df = df_main.pivot_table(\n",
        "        index=[\"Fecha\", \"Punto de Muestreo\"],\n",
        "        columns=\"Parametros\",\n",
        "        values=\"Valor\"\n",
        "    )\n",
        "\n",
        "    # Rename columns for easier use\n",
        "    pivot_df = pivot_df.rename(columns={\n",
        "        \"Potencial de hidrógeno\": \"pH\",\n",
        "        \"Demanda bioquímica de oxígeno\": \"DBO 5\",\n",
        "        \"Demanda química de oxígeno\": \"DQO\",\n",
        "        \"Sólidos suspendidos totales\": \"SST\"\n",
        "    })\n",
        "\n",
        "    # Flatten columns and reset index\n",
        "    pivot_df.columns.name = None\n",
        "    pivot_df.reset_index(inplace=True)\n",
        "\n",
        "    # Preview the result\n",
        "    print(pivot_df.head())\n",
        "\n",
        "    # Guardar\n",
        "    output_path = f\"/content/drive/MyDrive/Water project/Dataset(s)/processed/{water_bodies1[i].replace(' ', '_').lower()}.csv\"\n",
        "    pivot_df.to_csv(output_path, index=False)\n"
      ],
      "metadata": {
        "id": "CV5cg5mS-ToE"
      },
      "execution_count": null,
      "outputs": []
    },
    {
      "cell_type": "markdown",
      "source": [
        "## 5. Resultados de la Limpieza\n",
        "- Se generan los siguientes archivos .csv:\n",
        "\n",
        "1. `laguna_de_cajititlan.csv`\n",
        "2. `rio_santiago.csv`\n",
        "3. `rio_zula-lerma.csv`\n",
        "4. `laguna_zapotlan.csv`\n",
        "5. `rio_verde.csv`\n",
        "\n",
        "- Cada uno contiene columnas exactamente:\n",
        "\n",
        "- Fecha (datetime)\n",
        "- Punto de Muestreo (texto)\n",
        "Las 12 variables seleccionadas:\n",
        "\n",
        "1. Alcalinidad total\n",
        "2. Coliformes fecales\n",
        "3. Conductividad\n",
        "4. DBO 5\n",
        "5. DQO\n",
        "6. Fósforo total\n",
        "7. Mercurio\n",
        "8. Nitrógeno amoniacal\n",
        "9. Oxígeno disuelto\n",
        "10. Plomo\n",
        "11. pH\n",
        "12. SST\n",
        "\n",
        "\n",
        "Un conjunto estructurado y limpio en formato CSV es indispensable para la fase de modelado.\n",
        "\n",
        "Ante posibles actualizaciones de datos (p.ej. nuevas mediciones mensuales), basta con colocar el nuevo archivo Excel en Drive y rerunear únicamente esta sección de “Data Cleaning” para obtener CSVs actualizados al instante."
      ],
      "metadata": {
        "id": "SXtp8ct4A6wd"
      }
    },
    {
      "cell_type": "markdown",
      "source": [
        "## Referencias\n",
        "\n",
        "- Comisión Nacional del Agua (CONAGUA). (2014). Indicadores de la Calidad del Agua en México.\n",
        "→ Base para la elección de parámetros, rangos de subíndice y definición de ICA .\n",
        "\n",
        "- Pedregosa, F., Varoquaux, G., Gramfort, A., et al. (2011). Scikit-learn: Machine Learning in Python. Journal of Machine Learning Research, 12, 2825–2830. (para funciones de pivot, merge y limpieza en pandas)."
      ],
      "metadata": {
        "id": "ERjjCv7A-1Eg"
      }
    }
  ]
}